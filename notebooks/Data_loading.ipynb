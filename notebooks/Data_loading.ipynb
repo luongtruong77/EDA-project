{
 "cells": [
  {
   "cell_type": "code",
   "execution_count": null,
   "id": "vanilla-invalid",
   "metadata": {},
   "outputs": [],
   "source": [
    "#Importing packages\n",
    "import pandas as pd\n",
    "from sqlalchemy import create_engine\n",
    "\n",
    "print(\"Libraries imported!\")\n",
    "\n",
    "#Loading the data\n",
    "\n",
    "#Define the number of weeks\n",
    "num_weeks = [210327, 210320, 210313, 210306, 210227, 210220, 210213, 210206, 210130, \n",
    "             210123, 210116, 210109, 210102, 201226, 201219, 201212, 201205]\n",
    "\n",
    "#Define the base data_url\n",
    "data_url = \"http://web.mta.info/developers/data/nyct/turnstile/turnstile_{}.txt\"\n",
    "\n",
    "#Create the empty list to store each week's dataframe\n",
    "data_list = []\n",
    "\n",
    "#Loop through each week in the list\n",
    "for week in num_weeks:\n",
    "    \n",
    "    #Use pandas to read in the data\n",
    "    data = pd.read_csv(data_url.format(week))\n",
    "    \n",
    "    #Append each dataframe into the data_list\n",
    "    data_list.append(data)\n",
    "\n",
    "#Concatenate them all into the big dataframe called\n",
    "df = pd.concat(data_list, ignore_index=True)\n",
    "\n",
    "#Export the df into csv file called all_combined.csv\n",
    "new_df = df.set_index('C/A')\n",
    "new_df.to_csv(\"data/all_combined.csv\")"
   ]
  }
 ],
 "metadata": {
  "kernelspec": {
   "display_name": "Python [conda env:metis] *",
   "language": "python",
   "name": "conda-env-metis-py"
  },
  "language_info": {
   "codemirror_mode": {
    "name": "ipython",
    "version": 3
   },
   "file_extension": ".py",
   "mimetype": "text/x-python",
   "name": "python",
   "nbconvert_exporter": "python",
   "pygments_lexer": "ipython3",
   "version": "3.8.8"
  }
 },
 "nbformat": 4,
 "nbformat_minor": 5
}
